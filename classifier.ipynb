{
 "cells": [
  {
   "cell_type": "code",
   "execution_count": null,
   "metadata": {
    "is_executing": true
   },
   "outputs": [],
   "source": [
    "import pandas as pd\n",
    "import torch\n",
    "from torch import nn\n",
    "from torch.utils.data import Dataset, DataLoader\n",
    "from transformers import AutoTokenizer, BertTokenizer, BertModel\n",
    "# from datasets import load_dataset\n",
    "from sklearn.model_selection import train_test_split\n",
    "import unicodedata as ucd\n"
   ]
  },
  {
   "cell_type": "code",
   "execution_count": 2,
   "metadata": {},
   "outputs": [
    {
     "data": {
      "text/plain": [
       "True"
      ]
     },
     "execution_count": 2,
     "metadata": {},
     "output_type": "execute_result"
    }
   ],
   "source": [
    "torch.cuda.is_available()"
   ]
  },
  {
   "cell_type": "code",
   "execution_count": 56,
   "metadata": {},
   "outputs": [],
   "source": [
    "mapping = {\n",
    "    \"玄幻\": 0,\n",
    "    \"奇幻\": 1,\n",
    "    \"武侠\": 2,\n",
    "    \"仙侠\": 3,\n",
    "    \"都市\": 4,\n",
    "    \"历史\": 5,\n",
    "    \"游戏\": 6,\n",
    "    \"科幻\": 7,\n",
    "    \"奇闻异事\": 8,\n",
    "    \"古代言情\": 9,\n",
    "    \"现代言情\": 10,\n",
    "    \"幻想言情\": 11,\n",
    "}\n",
    "mapping_rec = {val: key for key, val in mapping.items()}\n",
    "num_class = 12"
   ]
  },
  {
   "cell_type": "code",
   "execution_count": 21,
   "metadata": {},
   "outputs": [],
   "source": [
    "class CustomDataset(Dataset):\n",
    "    def __init__(self, excel_file):\n",
    "        self.dataset = pd.read_excel(excel_file).values.tolist()\n",
    "\n",
    "    def __len__(self):\n",
    "        return len(self.dataset)\n",
    "\n",
    "    def __getitem__(self, idx):\n",
    "        text = self.dataset[idx][2].strip()\n",
    "        text = ucd.normalize('NFKC', text).replace(\" \", \"\")\n",
    "        text = text.replace(\"\\n\", \"\").replace(\"……\", \"\").replace(\"......\", \"\")\n",
    "        label = mapping[self.dataset[idx][1]]\n",
    "\n",
    "        return text, label\n"
   ]
  },
  {
   "cell_type": "code",
   "execution_count": 22,
   "metadata": {},
   "outputs": [
    {
     "name": "stdout",
     "output_type": "stream",
     "text": [
      "20646\n"
     ]
    },
    {
     "data": {
      "text/plain": [
       "('水浒元世界!异世穿越!北宋末年!杜康紧缺!酒也能分等级?打斗场景竟能作为合成材料?我左手一坛N级蓝桥风月美酒,俘获一只小老鼠白胜;右手托着一坛R级十字坡浑色精酿,扈三娘投怀送抱,看得宋江咬牙切齿!一坛又一坛,送我上梁山!拉帮结派全不会啊,说学逗唱忽悠最在行!',\n",
       " 5)"
      ]
     },
     "execution_count": 22,
     "metadata": {},
     "output_type": "execute_result"
    }
   ],
   "source": [
    "train_dataset = CustomDataset('./data/full/train.xlsx')\n",
    "val_dataset = CustomDataset(\"./data/full/val.xlsx\")\n",
    "print(len(train_dataset))\n",
    "train_dataset[0]"
   ]
  },
  {
   "cell_type": "code",
   "execution_count": 23,
   "metadata": {},
   "outputs": [
    {
     "data": {
      "text/plain": [
       "508"
      ]
     },
     "execution_count": 23,
     "metadata": {},
     "output_type": "execute_result"
    }
   ],
   "source": [
    "maxLen = 0\n",
    "for text, label in train_dataset:\n",
    "    if len(text) > maxLen:\n",
    "        maxLen = len(text)\n",
    "maxLen"
   ]
  },
  {
   "cell_type": "code",
   "execution_count": 24,
   "metadata": {},
   "outputs": [],
   "source": [
    "token = BertTokenizer.from_pretrained('../bert-base-chinese')  # 要跟预训练模型相匹配\n",
    "def collate_fn(data):\n",
    "    sents = [i[0] for i in data]\n",
    "    labels = [i[1] for i in data]\n",
    "\n",
    "    #编码\n",
    "    data = token.batch_encode_plus(batch_text_or_text_pairs=sents,\n",
    "                                   truncation=True,   # 当句子长度大于max_length时，截断\n",
    "                                   padding='max_length',   # 一律补0到max_length长度\n",
    "                                   max_length=500,\n",
    "                                   return_tensors='pt',   # 返回pytorch类型的tensor\n",
    "                                   return_length=True)   # 返回length，标识长度\n",
    "\n",
    "    input_ids = data['input_ids']    # input_ids:编码之后的数字\n",
    "    attention_mask = data['attention_mask']     # attention_mask:补零的位置是0,其他位置是1\n",
    "    token_type_ids = data['token_type_ids']   # 第一个句子和特殊符号的位置是0，第二个句子的位置是1(包括第二个句子后的[SEP])\n",
    "    labels = torch.LongTensor(labels)\n",
    "\n",
    "    return input_ids, attention_mask, token_type_ids, labels"
   ]
  },
  {
   "cell_type": "code",
   "execution_count": 25,
   "metadata": {},
   "outputs": [
    {
     "name": "stdout",
     "output_type": "stream",
     "text": [
      "[('水浒元世界!异世穿越!北宋末年!杜康紧缺!酒也能分等级?打斗场景竟能作为合成材料?我左手一坛N级蓝桥风月美酒,俘获一只小老鼠白胜;右手托着一坛R级十字坡浑色精酿,扈三娘投怀送抱,看得宋江咬牙切齿!一坛又一坛,送我上梁山!拉帮结派全不会啊,说学逗唱忽悠最在行!', 5)]\n"
     ]
    },
    {
     "data": {
      "text/plain": [
       "(torch.Size([1, 500]), torch.Size([1, 500]), torch.Size([1, 500]), tensor([5]))"
      ]
     },
     "execution_count": 25,
     "metadata": {},
     "output_type": "execute_result"
    }
   ],
   "source": [
    "sample = [train_dataset[0]]\n",
    "print(sample)\n",
    "input_ids, attention_mask, token_type_ids, labels = collate_fn(sample)\n",
    "input_ids.shape, attention_mask.shape, token_type_ids.shape, labels "
   ]
  },
  {
   "cell_type": "code",
   "execution_count": 26,
   "metadata": {},
   "outputs": [],
   "source": [
    "train_loader = torch.utils.data.DataLoader(dataset=train_dataset,\n",
    "                                        batch_size=16,\n",
    "                                        collate_fn=collate_fn,\n",
    "                                        shuffle=True,\n",
    "                                        # pin_memory=True,\n",
    "                                        # num_workers=4,\n",
    "                                        drop_last=False)\n",
    "val_loader = torch.utils.data.DataLoader(dataset=val_dataset,\n",
    "                                        batch_size=16,\n",
    "                                        collate_fn=collate_fn,\n",
    "                                        shuffle=True,\n",
    "                                        # pin_memory=True,\n",
    "                                        # num_workers=4,\n",
    "                                        drop_last=False)"
   ]
  },
  {
   "cell_type": "code",
   "execution_count": 27,
   "metadata": {},
   "outputs": [
    {
     "name": "stdout",
     "output_type": "stream",
     "text": [
      "1291\n"
     ]
    },
    {
     "data": {
      "text/plain": [
       "(torch.Size([16, 500]),\n",
       " torch.Size([16, 500]),\n",
       " torch.Size([16, 500]),\n",
       " tensor([ 3, 10, 10,  1,  4,  2, 11,  4,  0,  0,  0,  7,  4,  4,  2, 10]))"
      ]
     },
     "execution_count": 27,
     "metadata": {},
     "output_type": "execute_result"
    }
   ],
   "source": [
    "# 查看数据样例\n",
    "for i, (input_ids, attention_mask, token_type_ids,\n",
    "        labels) in enumerate(train_loader):\n",
    "    break\n",
    "\n",
    "print(len(train_loader))  \n",
    "input_ids.shape, attention_mask.shape, token_type_ids.shape, labels "
   ]
  },
  {
   "cell_type": "code",
   "execution_count": 28,
   "metadata": {},
   "outputs": [],
   "source": [
    "#加载预训练模型\n",
    "pretrained = BertModel.from_pretrained('../bert-base-chinese').cuda()\n",
    "#不训练,不需要计算梯度\n",
    "for param in pretrained.parameters():\n",
    "    param.requires_grad_(False)"
   ]
  },
  {
   "cell_type": "code",
   "execution_count": 29,
   "metadata": {},
   "outputs": [
    {
     "data": {
      "text/plain": [
       "torch.Size([16, 500, 768])"
      ]
     },
     "execution_count": 29,
     "metadata": {},
     "output_type": "execute_result"
    }
   ],
   "source": [
    "#模型试算\n",
    "out = pretrained(input_ids=input_ids.cuda(),\n",
    "           attention_mask=attention_mask.cuda(),\n",
    "           token_type_ids=token_type_ids.cuda())\n",
    "\n",
    "out.last_hidden_state.shape"
   ]
  },
  {
   "cell_type": "code",
   "execution_count": 30,
   "metadata": {},
   "outputs": [],
   "source": [
    "#定义下游任务模型\n",
    "class Model(torch.nn.Module):\n",
    "    def __init__(self):\n",
    "        super().__init__()\n",
    "        self.fc = torch.nn.Linear(768, num_class)  # 单层网络模型，只包括了一个fc的神经网络\n",
    "\n",
    "    def forward(self, input_ids, attention_mask, token_type_ids):\n",
    "        with torch.no_grad():\n",
    "            out = pretrained(input_ids=input_ids,   # 先拿预训练模型来做一个计算，抽取数据当中的特征\n",
    "                       attention_mask=attention_mask,\n",
    "                       token_type_ids=token_type_ids)\n",
    "\n",
    "        # 把抽取出来的特征放到全连接网络中运算，且特征的结果只需要第0个词的特征(跟bert模型的设计方式有关。对句子的情感分类，只需要拿特征中的第0个词来进行分类就可以了)\n",
    "        out = self.fc(out.last_hidden_state[:, 0])   # torch.Size([16, 768])\n",
    "        \n",
    "        # # 将softmax函数应用于一个n维输入张量，对其进行缩放，使n维输出张量的元素位于[0,1]范围内，总和为1\n",
    "        # out = out.softmax(dim=1)  \n",
    "\n",
    "        return out\n",
    "\n",
    "model = Model().cuda()"
   ]
  },
  {
   "cell_type": "code",
   "execution_count": 31,
   "metadata": {},
   "outputs": [
    {
     "data": {
      "text/plain": [
       "torch.Size([16, 12])"
      ]
     },
     "execution_count": 31,
     "metadata": {},
     "output_type": "execute_result"
    }
   ],
   "source": [
    "model(input_ids=input_ids.cuda(),\n",
    "      attention_mask=attention_mask.cuda(),\n",
    "      token_type_ids=token_type_ids.cuda()).shape"
   ]
  },
  {
   "cell_type": "code",
   "execution_count": 83,
   "metadata": {},
   "outputs": [],
   "source": [
    "optimizer = torch.optim.Adam(model.parameters(), lr=3e-4)\n",
    "criterion = torch.nn.CrossEntropyLoss().cuda()"
   ]
  },
  {
   "cell_type": "code",
   "execution_count": 32,
   "metadata": {},
   "outputs": [
    {
     "name": "stdout",
     "output_type": "stream",
     "text": [
      "Iter 1/1291: Loss 2.4600 Accuracy 0.0625\n",
      "Iter 11/1291: Loss 2.5470 Accuracy 0.2500\n",
      "Iter 21/1291: Loss 2.3643 Accuracy 0.1250\n",
      "Iter 31/1291: Loss 2.0205 Accuracy 0.1250\n",
      "Iter 41/1291: Loss 2.4757 Accuracy 0.1875\n",
      "Iter 51/1291: Loss 1.6559 Accuracy 0.5625\n",
      "Iter 61/1291: Loss 1.7421 Accuracy 0.5000\n",
      "Iter 71/1291: Loss 1.8872 Accuracy 0.4375\n",
      "Iter 81/1291: Loss 2.0320 Accuracy 0.2500\n",
      "Iter 91/1291: Loss 2.1840 Accuracy 0.3125\n",
      "Iter 101/1291: Loss 1.7409 Accuracy 0.5625\n",
      "Iter 111/1291: Loss 2.0610 Accuracy 0.3125\n",
      "Iter 121/1291: Loss 1.8968 Accuracy 0.3125\n",
      "Iter 131/1291: Loss 2.1123 Accuracy 0.3750\n",
      "Iter 141/1291: Loss 1.4658 Accuracy 0.6250\n",
      "Iter 151/1291: Loss 1.9266 Accuracy 0.4375\n",
      "Iter 161/1291: Loss 1.6478 Accuracy 0.5625\n",
      "Iter 171/1291: Loss 1.9159 Accuracy 0.3750\n",
      "Iter 181/1291: Loss 1.6427 Accuracy 0.3750\n",
      "Iter 191/1291: Loss 1.8816 Accuracy 0.2500\n",
      "Iter 201/1291: Loss 2.2981 Accuracy 0.2500\n",
      "Iter 211/1291: Loss 2.1178 Accuracy 0.1875\n",
      "Iter 221/1291: Loss 2.0251 Accuracy 0.3125\n",
      "Iter 231/1291: Loss 1.2963 Accuracy 0.5000\n",
      "Iter 241/1291: Loss 1.5117 Accuracy 0.6250\n",
      "Iter 251/1291: Loss 1.5599 Accuracy 0.4375\n",
      "Iter 261/1291: Loss 1.5371 Accuracy 0.4375\n",
      "Iter 271/1291: Loss 1.7646 Accuracy 0.3125\n",
      "Iter 281/1291: Loss 1.8324 Accuracy 0.5000\n",
      "Iter 291/1291: Loss 1.7092 Accuracy 0.5000\n",
      "Iter 301/1291: Loss 1.7867 Accuracy 0.4375\n",
      "Iter 311/1291: Loss 1.5809 Accuracy 0.4375\n",
      "Iter 321/1291: Loss 1.7493 Accuracy 0.3125\n",
      "Iter 331/1291: Loss 1.9730 Accuracy 0.1875\n",
      "Iter 341/1291: Loss 2.0022 Accuracy 0.3750\n",
      "Iter 351/1291: Loss 1.4992 Accuracy 0.5000\n",
      "Iter 361/1291: Loss 2.1194 Accuracy 0.4375\n",
      "Iter 371/1291: Loss 1.8296 Accuracy 0.5000\n",
      "Iter 381/1291: Loss 1.4496 Accuracy 0.5000\n",
      "Iter 391/1291: Loss 1.5336 Accuracy 0.5625\n",
      "Iter 401/1291: Loss 1.5757 Accuracy 0.3750\n",
      "Iter 411/1291: Loss 1.5750 Accuracy 0.5000\n",
      "Iter 421/1291: Loss 1.6137 Accuracy 0.3750\n",
      "Iter 431/1291: Loss 1.5586 Accuracy 0.3750\n",
      "Iter 441/1291: Loss 1.5235 Accuracy 0.4375\n",
      "Iter 451/1291: Loss 1.3345 Accuracy 0.5625\n",
      "Iter 461/1291: Loss 1.2336 Accuracy 0.5625\n",
      "Iter 471/1291: Loss 1.6028 Accuracy 0.4375\n",
      "Iter 481/1291: Loss 1.8579 Accuracy 0.3750\n",
      "Iter 491/1291: Loss 1.3326 Accuracy 0.6250\n",
      "Iter 501/1291: Loss 1.4934 Accuracy 0.3750\n",
      "Iter 511/1291: Loss 1.5718 Accuracy 0.3750\n",
      "Iter 521/1291: Loss 1.6795 Accuracy 0.4375\n",
      "Iter 531/1291: Loss 1.9634 Accuracy 0.3750\n",
      "Iter 541/1291: Loss 1.3822 Accuracy 0.5000\n",
      "Iter 551/1291: Loss 1.4092 Accuracy 0.3750\n",
      "Iter 561/1291: Loss 1.4915 Accuracy 0.5625\n",
      "Iter 571/1291: Loss 1.5360 Accuracy 0.4375\n",
      "Iter 581/1291: Loss 1.5183 Accuracy 0.6250\n",
      "Iter 591/1291: Loss 1.6858 Accuracy 0.4375\n",
      "Iter 601/1291: Loss 1.3902 Accuracy 0.4375\n",
      "Iter 611/1291: Loss 1.8161 Accuracy 0.2500\n",
      "Iter 621/1291: Loss 1.2690 Accuracy 0.5625\n",
      "Iter 631/1291: Loss 1.2961 Accuracy 0.5625\n",
      "Iter 641/1291: Loss 1.6211 Accuracy 0.2500\n",
      "Iter 651/1291: Loss 1.1938 Accuracy 0.5625\n",
      "Iter 661/1291: Loss 1.3501 Accuracy 0.5625\n",
      "Iter 671/1291: Loss 1.4428 Accuracy 0.5000\n",
      "Iter 681/1291: Loss 1.5281 Accuracy 0.4375\n",
      "Iter 691/1291: Loss 1.2089 Accuracy 0.4375\n",
      "Iter 701/1291: Loss 1.9099 Accuracy 0.3125\n",
      "Iter 711/1291: Loss 1.1640 Accuracy 0.6250\n",
      "Iter 721/1291: Loss 1.4742 Accuracy 0.5000\n",
      "Iter 731/1291: Loss 1.4837 Accuracy 0.5000\n",
      "Iter 741/1291: Loss 0.9769 Accuracy 0.8125\n",
      "Iter 751/1291: Loss 1.8665 Accuracy 0.3125\n",
      "Iter 761/1291: Loss 1.7241 Accuracy 0.5000\n",
      "Iter 771/1291: Loss 1.3430 Accuracy 0.5000\n",
      "Iter 781/1291: Loss 1.2587 Accuracy 0.5000\n",
      "Iter 791/1291: Loss 1.5933 Accuracy 0.3125\n",
      "Iter 801/1291: Loss 1.3938 Accuracy 0.7500\n",
      "Iter 811/1291: Loss 1.9166 Accuracy 0.4375\n",
      "Iter 821/1291: Loss 1.7763 Accuracy 0.3750\n",
      "Iter 831/1291: Loss 1.6725 Accuracy 0.2500\n",
      "Iter 841/1291: Loss 1.9851 Accuracy 0.1875\n",
      "Iter 851/1291: Loss 2.0879 Accuracy 0.3125\n",
      "Iter 861/1291: Loss 1.4009 Accuracy 0.5625\n",
      "Iter 871/1291: Loss 1.4075 Accuracy 0.5000\n",
      "Iter 881/1291: Loss 1.7579 Accuracy 0.4375\n",
      "Iter 891/1291: Loss 1.5994 Accuracy 0.4375\n",
      "Iter 901/1291: Loss 1.3721 Accuracy 0.3750\n",
      "Iter 911/1291: Loss 1.3457 Accuracy 0.5000\n",
      "Iter 921/1291: Loss 1.6329 Accuracy 0.5625\n",
      "Iter 931/1291: Loss 1.5315 Accuracy 0.5000\n",
      "Iter 941/1291: Loss 1.2870 Accuracy 0.5000\n",
      "Iter 951/1291: Loss 1.4376 Accuracy 0.5625\n",
      "Iter 961/1291: Loss 1.5442 Accuracy 0.3125\n",
      "Iter 971/1291: Loss 1.6861 Accuracy 0.3125\n",
      "Iter 981/1291: Loss 1.5932 Accuracy 0.5000\n",
      "Iter 991/1291: Loss 1.2520 Accuracy 0.5000\n",
      "Iter 1001/1291: Loss 1.2152 Accuracy 0.6250\n",
      "Iter 1011/1291: Loss 1.2365 Accuracy 0.4375\n",
      "Iter 1021/1291: Loss 1.3453 Accuracy 0.5625\n",
      "Iter 1031/1291: Loss 1.6820 Accuracy 0.4375\n",
      "Iter 1041/1291: Loss 1.5361 Accuracy 0.4375\n",
      "Iter 1051/1291: Loss 1.6297 Accuracy 0.4375\n",
      "Iter 1061/1291: Loss 1.2291 Accuracy 0.4375\n",
      "Iter 1071/1291: Loss 1.6921 Accuracy 0.5625\n",
      "Iter 1081/1291: Loss 1.5210 Accuracy 0.4375\n",
      "Iter 1091/1291: Loss 1.9005 Accuracy 0.5000\n",
      "Iter 1101/1291: Loss 1.5741 Accuracy 0.5000\n",
      "Iter 1111/1291: Loss 1.4012 Accuracy 0.5000\n",
      "Iter 1121/1291: Loss 1.0044 Accuracy 0.6875\n",
      "Iter 1131/1291: Loss 1.3536 Accuracy 0.5000\n",
      "Iter 1141/1291: Loss 1.7488 Accuracy 0.4375\n",
      "Iter 1151/1291: Loss 1.1527 Accuracy 0.5000\n",
      "Iter 1161/1291: Loss 1.1436 Accuracy 0.6250\n",
      "Iter 1171/1291: Loss 1.3777 Accuracy 0.5625\n",
      "Iter 1181/1291: Loss 1.5416 Accuracy 0.5000\n",
      "Iter 1191/1291: Loss 1.4407 Accuracy 0.4375\n",
      "Iter 1201/1291: Loss 1.3856 Accuracy 0.5000\n",
      "Iter 1211/1291: Loss 1.0159 Accuracy 0.8125\n",
      "Iter 1221/1291: Loss 1.3088 Accuracy 0.5625\n",
      "Iter 1231/1291: Loss 1.2671 Accuracy 0.5625\n",
      "Iter 1241/1291: Loss 1.2728 Accuracy 0.5000\n",
      "Iter 1251/1291: Loss 1.2493 Accuracy 0.6250\n",
      "Iter 1261/1291: Loss 1.6123 Accuracy 0.4375\n",
      "Iter 1271/1291: Loss 0.9991 Accuracy 0.7500\n",
      "Iter 1281/1291: Loss 1.4477 Accuracy 0.5625\n",
      "Iter 1291/1291: Loss 1.4900 Accuracy 0.3333\n"
     ]
    }
   ],
   "source": [
    "#训练下游任务模型\n",
    "\n",
    "model.train()\n",
    "total_iter = len(train_loader)\n",
    "losses = []\n",
    "\n",
    "for i, (input_ids, attention_mask, token_type_ids,\n",
    "        labels) in enumerate(train_loader):\n",
    "    labels = labels.cuda()\n",
    "    out = model(input_ids=input_ids.cuda(),\n",
    "                attention_mask=attention_mask.cuda(),\n",
    "                token_type_ids=token_type_ids.cuda())\n",
    "\n",
    "    loss = criterion(out, labels)  # 输出跟真实的labels计算loss\n",
    "    loss.backward()   # 调用反向传播得到每个要更新参数的梯度\n",
    "    optimizer.step()  # 每个参数根据上一步得到的梯度进行优化\n",
    "    optimizer.zero_grad()  # 把上一步训练的每个参数的梯度清零\n",
    "    losses.append(loss.item())\n",
    "\n",
    "    if i % 10 == 0:\n",
    "        out = out.argmax(dim=1)\n",
    "        accuracy = (out == labels).sum().item() / len(labels)\n",
    "        print(f\"Iter {i+1}/{total_iter}: Loss {loss.item() :.4f} Accuracy {accuracy :.4f}\")"
   ]
  },
  {
   "cell_type": "code",
   "execution_count": 81,
   "metadata": {},
   "outputs": [],
   "source": [
    "def output_fn(sents, model, mode='full'):\n",
    "    data = token.batch_encode_plus(batch_text_or_text_pairs=sents,\n",
    "                                   truncation=True,   # 当句子长度大于max_length时，截断\n",
    "                                   padding='max_length',   # 一律补0到max_length长度\n",
    "                                   max_length=500,\n",
    "                                   return_tensors='pt',   # 返回pytorch类型的tensor\n",
    "                                   return_length=True)   # 返回length，标识长度\n",
    "\n",
    "    input_ids = data['input_ids']    # input_ids:编码之后的数字\n",
    "    attention_mask = data['attention_mask']     # attention_mask:补零的位置是0,其他位置是1\n",
    "    token_type_ids = data['token_type_ids']\n",
    "    \n",
    "    model = model.cuda()\n",
    "    logit = model(input_ids=input_ids.cuda(),\n",
    "        attention_mask=attention_mask.cuda(),\n",
    "        token_type_ids=token_type_ids.cuda()).detach().cpu()\n",
    "    scores = torch.softmax(logit, axis=-1)\n",
    "    if mode == 'full':\n",
    "        sorted_scores, idxs = torch.sort(scores, axis=-1, descending = True)\n",
    "        sorted_scores = sorted_scores.tolist()\n",
    "        idxs = idxs.tolist()\n",
    "        # print(logit)\n",
    "        out = [(mapping_rec[idx], score) for idx, score in zip(*idxs, *sorted_scores)]\n",
    "    else:\n",
    "        score, pred = torch.max(scores, axis=-1)\n",
    "        score = score.item()\n",
    "        pred = pred.item()\n",
    "        pred = mapping_rec[pred]\n",
    "        out = (pred, score)\n",
    "    \n",
    "    return out"
   ]
  },
  {
   "cell_type": "code",
   "execution_count": 82,
   "metadata": {},
   "outputs": [
    {
     "data": {
      "text/plain": [
       "[('仙侠', 0.41669586300849915),\n",
       " ('玄幻', 0.27042803168296814),\n",
       " ('古代言情', 0.09472974389791489),\n",
       " ('奇幻', 0.05857185646891594),\n",
       " ('幻想言情', 0.05615478381514549),\n",
       " ('历史', 0.03144925832748413),\n",
       " ('武侠', 0.026061752811074257),\n",
       " ('奇闻异事', 0.018999552354216576),\n",
       " ('都市', 0.012566288001835346),\n",
       " ('科幻', 0.00986560806632042),\n",
       " ('现代言情', 0.0023738027084618807),\n",
       " ('游戏', 0.0021035170648247004)]"
      ]
     },
     "execution_count": 82,
     "metadata": {},
     "output_type": "execute_result"
    }
   ],
   "source": [
    "demo = \"如果天道无情，我便伐了这天！\"\n",
    "output_fn([demo], model)"
   ]
  },
  {
   "cell_type": "code",
   "execution_count": 84,
   "metadata": {},
   "outputs": [],
   "source": [
    "def top_k_accuracy(output, target, k=1):\n",
    "    with torch.no_grad():\n",
    "        _, topk_indices = output.topk(k, dim=1, largest=True, sorted=True)\n",
    "        topk_correct = topk_indices.eq(target.view(-1, 1).expand_as(topk_indices))\n",
    "        topk_correct = topk_correct.float().sum()\n",
    "        return topk_correct / target.size(0)\n"
   ]
  },
  {
   "cell_type": "code",
   "execution_count": 90,
   "metadata": {},
   "outputs": [],
   "source": [
    "def val(model, loader):\n",
    "    top_1 = []\n",
    "    top_3 = []\n",
    "    model.eval()\n",
    "    for i, (input_ids, attention_mask, token_type_ids,\n",
    "        labels) in enumerate(loader):\n",
    "        # labels = labels.cuda()\n",
    "        with torch.no_grad():\n",
    "            out = model(input_ids=input_ids.cuda(),\n",
    "                        attention_mask=attention_mask.cuda(),\n",
    "                        token_type_ids=token_type_ids.cuda()).detach().cpu()\n",
    "        top_1.append(top_k_accuracy(out, labels, k=1).item())\n",
    "        top_3.append(top_k_accuracy(out, labels, k=3).item())\n",
    "        \n",
    "    return top_1, top_3\n",
    "        "
   ]
  },
  {
   "cell_type": "code",
   "execution_count": 93,
   "metadata": {},
   "outputs": [
    {
     "name": "stdout",
     "output_type": "stream",
     "text": [
      "Val Top-1 Accuracy: 0.5222222223693942   Val Top-3 Accuracy: 0.813966049456302\n"
     ]
    }
   ],
   "source": [
    "import numpy as np\n",
    "top1, top3 = val(model, val_loader)\n",
    "print(f\"Val Top-1 Accuracy: {np.mean(top1)}   Val Top-3 Accuracy: {np.mean(top3)}\")"
   ]
  },
  {
   "cell_type": "code",
   "execution_count": 94,
   "metadata": {},
   "outputs": [],
   "source": [
    "# 保存分类器权重\n",
    "torch.save(model.fc.state_dict(), \"./checkpoints/bert_fc_full.pth\")"
   ]
  },
  {
   "cell_type": "code",
   "execution_count": 95,
   "metadata": {},
   "outputs": [
    {
     "name": "stdout",
     "output_type": "stream",
     "text": [
      "Iter 1/1291: Loss 1.7484 Accuracy 0.3125\n",
      "Iter 11/1291: Loss 1.1340 Accuracy 0.5625\n",
      "Iter 21/1291: Loss 1.4454 Accuracy 0.5000\n",
      "Iter 31/1291: Loss 1.7737 Accuracy 0.5000\n",
      "Iter 41/1291: Loss 1.2550 Accuracy 0.5625\n",
      "Iter 51/1291: Loss 1.2916 Accuracy 0.4375\n",
      "Iter 61/1291: Loss 2.2298 Accuracy 0.3750\n",
      "Iter 71/1291: Loss 1.8242 Accuracy 0.3125\n",
      "Iter 81/1291: Loss 1.4764 Accuracy 0.6875\n",
      "Iter 91/1291: Loss 1.2469 Accuracy 0.5625\n",
      "Iter 101/1291: Loss 1.1477 Accuracy 0.6250\n",
      "Iter 111/1291: Loss 1.2040 Accuracy 0.6250\n",
      "Iter 121/1291: Loss 1.5547 Accuracy 0.5000\n",
      "Iter 131/1291: Loss 1.5690 Accuracy 0.3750\n",
      "Iter 141/1291: Loss 1.3712 Accuracy 0.5625\n",
      "Iter 151/1291: Loss 1.5369 Accuracy 0.5625\n",
      "Iter 161/1291: Loss 1.5237 Accuracy 0.5000\n",
      "Iter 171/1291: Loss 1.7741 Accuracy 0.3750\n",
      "Iter 181/1291: Loss 1.4387 Accuracy 0.5000\n",
      "Iter 191/1291: Loss 1.4459 Accuracy 0.6250\n",
      "Iter 201/1291: Loss 0.9083 Accuracy 0.6875\n",
      "Iter 211/1291: Loss 0.9374 Accuracy 0.7500\n",
      "Iter 221/1291: Loss 1.8117 Accuracy 0.5000\n",
      "Iter 231/1291: Loss 1.9251 Accuracy 0.3125\n",
      "Iter 241/1291: Loss 1.6752 Accuracy 0.3750\n",
      "Iter 251/1291: Loss 1.2036 Accuracy 0.6250\n",
      "Iter 261/1291: Loss 1.2910 Accuracy 0.6250\n",
      "Iter 271/1291: Loss 1.4965 Accuracy 0.5000\n",
      "Iter 281/1291: Loss 1.3491 Accuracy 0.4375\n",
      "Iter 291/1291: Loss 1.7225 Accuracy 0.3750\n",
      "Iter 301/1291: Loss 1.3443 Accuracy 0.4375\n",
      "Iter 311/1291: Loss 1.5639 Accuracy 0.3750\n",
      "Iter 321/1291: Loss 1.2975 Accuracy 0.6250\n",
      "Iter 331/1291: Loss 1.5664 Accuracy 0.4375\n",
      "Iter 341/1291: Loss 1.2588 Accuracy 0.5625\n",
      "Iter 351/1291: Loss 1.4214 Accuracy 0.6875\n",
      "Iter 361/1291: Loss 1.1382 Accuracy 0.6250\n",
      "Iter 371/1291: Loss 1.7575 Accuracy 0.3750\n",
      "Iter 381/1291: Loss 1.5933 Accuracy 0.5625\n",
      "Iter 391/1291: Loss 0.9545 Accuracy 0.7500\n",
      "Iter 401/1291: Loss 1.3584 Accuracy 0.5000\n",
      "Iter 411/1291: Loss 1.3049 Accuracy 0.6250\n",
      "Iter 421/1291: Loss 1.5230 Accuracy 0.5000\n",
      "Iter 431/1291: Loss 1.3887 Accuracy 0.6250\n",
      "Iter 441/1291: Loss 1.3629 Accuracy 0.7500\n",
      "Iter 451/1291: Loss 0.9901 Accuracy 0.7500\n",
      "Iter 461/1291: Loss 1.3177 Accuracy 0.5625\n",
      "Iter 471/1291: Loss 1.7128 Accuracy 0.3125\n",
      "Iter 481/1291: Loss 1.1456 Accuracy 0.5625\n",
      "Iter 491/1291: Loss 1.9794 Accuracy 0.5000\n",
      "Iter 501/1291: Loss 1.5715 Accuracy 0.2500\n",
      "Iter 511/1291: Loss 1.1158 Accuracy 0.5625\n",
      "Iter 521/1291: Loss 1.2557 Accuracy 0.6875\n",
      "Iter 531/1291: Loss 1.2864 Accuracy 0.5000\n",
      "Iter 541/1291: Loss 1.1850 Accuracy 0.6250\n",
      "Iter 551/1291: Loss 0.8225 Accuracy 0.7500\n",
      "Iter 561/1291: Loss 1.0149 Accuracy 0.6250\n",
      "Iter 571/1291: Loss 0.8863 Accuracy 0.6250\n",
      "Iter 581/1291: Loss 1.9921 Accuracy 0.4375\n",
      "Iter 591/1291: Loss 1.3451 Accuracy 0.6250\n",
      "Iter 601/1291: Loss 1.4485 Accuracy 0.5000\n",
      "Iter 611/1291: Loss 1.9303 Accuracy 0.2500\n",
      "Iter 621/1291: Loss 1.6965 Accuracy 0.2500\n",
      "Iter 631/1291: Loss 1.4540 Accuracy 0.3750\n",
      "Iter 641/1291: Loss 1.3527 Accuracy 0.4375\n",
      "Iter 651/1291: Loss 1.5675 Accuracy 0.3125\n",
      "Iter 661/1291: Loss 1.1855 Accuracy 0.5000\n",
      "Iter 671/1291: Loss 1.3458 Accuracy 0.5625\n",
      "Iter 681/1291: Loss 1.2202 Accuracy 0.5625\n",
      "Iter 691/1291: Loss 1.8252 Accuracy 0.3750\n",
      "Iter 701/1291: Loss 1.1349 Accuracy 0.5000\n",
      "Iter 711/1291: Loss 1.6362 Accuracy 0.6250\n",
      "Iter 721/1291: Loss 1.5920 Accuracy 0.4375\n",
      "Iter 731/1291: Loss 1.1993 Accuracy 0.5000\n",
      "Iter 741/1291: Loss 1.4729 Accuracy 0.3750\n",
      "Iter 751/1291: Loss 2.0845 Accuracy 0.3125\n",
      "Iter 761/1291: Loss 1.1370 Accuracy 0.6250\n",
      "Iter 771/1291: Loss 1.2310 Accuracy 0.5000\n",
      "Iter 781/1291: Loss 1.3122 Accuracy 0.4375\n",
      "Iter 791/1291: Loss 1.3928 Accuracy 0.3125\n",
      "Iter 801/1291: Loss 1.1211 Accuracy 0.7500\n",
      "Iter 811/1291: Loss 1.0452 Accuracy 0.6250\n",
      "Iter 821/1291: Loss 1.2283 Accuracy 0.6875\n",
      "Iter 831/1291: Loss 1.6467 Accuracy 0.5000\n",
      "Iter 841/1291: Loss 1.6147 Accuracy 0.3750\n",
      "Iter 851/1291: Loss 1.5083 Accuracy 0.4375\n",
      "Iter 861/1291: Loss 1.3650 Accuracy 0.6250\n",
      "Iter 871/1291: Loss 1.3653 Accuracy 0.5625\n",
      "Iter 881/1291: Loss 1.1624 Accuracy 0.5625\n",
      "Iter 891/1291: Loss 1.3331 Accuracy 0.5625\n",
      "Iter 901/1291: Loss 1.6354 Accuracy 0.4375\n",
      "Iter 911/1291: Loss 1.2041 Accuracy 0.5000\n",
      "Iter 921/1291: Loss 1.4143 Accuracy 0.5000\n",
      "Iter 931/1291: Loss 1.2907 Accuracy 0.6250\n",
      "Iter 941/1291: Loss 1.0862 Accuracy 0.5625\n",
      "Iter 951/1291: Loss 1.6875 Accuracy 0.4375\n",
      "Iter 961/1291: Loss 1.7319 Accuracy 0.5000\n",
      "Iter 971/1291: Loss 1.7577 Accuracy 0.5000\n",
      "Iter 981/1291: Loss 1.7282 Accuracy 0.3125\n",
      "Iter 991/1291: Loss 0.9419 Accuracy 0.6875\n",
      "Iter 1001/1291: Loss 1.3815 Accuracy 0.5000\n",
      "Iter 1011/1291: Loss 1.7329 Accuracy 0.4375\n",
      "Iter 1021/1291: Loss 0.7418 Accuracy 0.8750\n",
      "Iter 1031/1291: Loss 2.0311 Accuracy 0.1875\n",
      "Iter 1041/1291: Loss 1.4304 Accuracy 0.6250\n",
      "Iter 1051/1291: Loss 1.3950 Accuracy 0.5000\n",
      "Iter 1061/1291: Loss 1.2440 Accuracy 0.6250\n",
      "Iter 1071/1291: Loss 1.8053 Accuracy 0.4375\n",
      "Iter 1081/1291: Loss 1.1353 Accuracy 0.5625\n",
      "Iter 1091/1291: Loss 1.4852 Accuracy 0.5000\n",
      "Iter 1101/1291: Loss 1.2439 Accuracy 0.5625\n",
      "Iter 1111/1291: Loss 1.1693 Accuracy 0.5625\n",
      "Iter 1121/1291: Loss 0.9429 Accuracy 0.7500\n",
      "Iter 1131/1291: Loss 0.9061 Accuracy 0.7500\n",
      "Iter 1141/1291: Loss 1.8581 Accuracy 0.3750\n",
      "Iter 1151/1291: Loss 1.7050 Accuracy 0.5000\n",
      "Iter 1161/1291: Loss 1.1062 Accuracy 0.6250\n",
      "Iter 1171/1291: Loss 1.5750 Accuracy 0.3125\n",
      "Iter 1181/1291: Loss 1.6279 Accuracy 0.5625\n",
      "Iter 1191/1291: Loss 1.3418 Accuracy 0.5000\n",
      "Iter 1201/1291: Loss 1.4524 Accuracy 0.5625\n",
      "Iter 1211/1291: Loss 1.4901 Accuracy 0.4375\n",
      "Iter 1221/1291: Loss 1.7372 Accuracy 0.4375\n",
      "Iter 1231/1291: Loss 1.3550 Accuracy 0.5000\n",
      "Iter 1241/1291: Loss 1.2596 Accuracy 0.5625\n",
      "Iter 1251/1291: Loss 1.2670 Accuracy 0.5000\n",
      "Iter 1261/1291: Loss 1.1028 Accuracy 0.5625\n",
      "Iter 1271/1291: Loss 1.2320 Accuracy 0.7500\n",
      "Iter 1281/1291: Loss 1.4293 Accuracy 0.6875\n",
      "Iter 1291/1291: Loss 0.6375 Accuracy 1.0000\n"
     ]
    }
   ],
   "source": [
    "# 训练下游任务模型——第三轮\n",
    "optimizer = torch.optim.Adam(model.parameters(), lr=2e-5)\n",
    "criterion = torch.nn.CrossEntropyLoss().cuda()\n",
    "\n",
    "model.train()\n",
    "losses = []\n",
    "accuracies = []\n",
    "\n",
    "for i, (input_ids, attention_mask, token_type_ids,\n",
    "        labels) in enumerate(train_loader):\n",
    "    labels = labels.cuda()\n",
    "    out = model(input_ids=input_ids.cuda(),\n",
    "                attention_mask=attention_mask.cuda(),\n",
    "                token_type_ids=token_type_ids.cuda())\n",
    "\n",
    "    loss = criterion(out, labels)  # 输出跟真实的labels计算loss\n",
    "    loss.backward()   # 调用反向传播得到每个要更新参数的梯度\n",
    "    optimizer.step()  # 每个参数根据上一步得到的梯度进行优化\n",
    "    optimizer.zero_grad()  # 把上一步训练的每个参数的梯度清零\n",
    "    losses.append(loss.item())\n",
    "\n",
    "    if i % 10 == 0:\n",
    "        out = out.argmax(dim=1)\n",
    "        accuracy = (out == labels).sum().item() / len(labels)\n",
    "        accuracies.append(accuracy)\n",
    "        print(f\"Iter {i+1}/{total_iter}: Loss {loss.item() :.4f} Accuracy {accuracy :.4f}\")"
   ]
  },
  {
   "cell_type": "code",
   "execution_count": 99,
   "metadata": {},
   "outputs": [
    {
     "data": {
      "image/png": "[encoded data removed]",
      "text/plain": [
       "<Figure size 1200x400 with 1 Axes>"
      ]
     },
     "metadata": {},
     "output_type": "display_data"
    }
   ],
   "source": [
    "from matplotlib import pyplot as plt\n",
    "%matplotlib inline\n",
    "plt.figure(figsize=(12, 4))\n",
    "t = list(range(1, total_iter+1))\n",
    "plt.plot(t, losses)\n",
    "plt.show()"
   ]
  },
  {
   "cell_type": "code",
   "execution_count": 100,
   "metadata": {},
   "outputs": [
    {
     "name": "stdout",
     "output_type": "stream",
     "text": [
      "Val Top-1 Accuracy: 0.5496913580982773   Val Top-3 Accuracy: 0.8306327160493827\n"
     ]
    }
   ],
   "source": [
    "top1, top3 = val(model, val_loader)\n",
    "print(f\"Val Top-1 Accuracy: {np.mean(top1)}   Val Top-3 Accuracy: {np.mean(top3)}\")"
   ]
  },
  {
   "cell_type": "code",
   "execution_count": 101,
   "metadata": {},
   "outputs": [],
   "source": [
    "torch.save(model.fc.state_dict(), \"./checkpoints/bert_fc_full_epoch_2.pth\")"
   ]
  },
  {
   "cell_type": "code",
   "execution_count": 102,
   "metadata": {},
   "outputs": [
    {
     "data": {
      "text/plain": [
       "[('玄幻', 0.38104167580604553),\n",
       " ('仙侠', 0.24040751159191132),\n",
       " ('古代言情', 0.11964794248342514),\n",
       " ('幻想言情', 0.07629632204771042),\n",
       " ('奇幻', 0.06448373943567276),\n",
       " ('历史', 0.03469283878803253),\n",
       " ('武侠', 0.02395523339509964),\n",
       " ('奇闻异事', 0.023588649928569794),\n",
       " ('都市', 0.020502159371972084),\n",
       " ('科幻', 0.010591985657811165),\n",
       " ('现代言情', 0.002651848364621401),\n",
       " ('游戏', 0.002140090335160494)]"
      ]
     },
     "execution_count": 102,
     "metadata": {},
     "output_type": "execute_result"
    }
   ],
   "source": [
    "demo = \"如果天道无情，我便伐了这天！\"\n",
    "output_fn([demo], model)"
   ]
  }
 ],
 "metadata": {
  "kernelspec": {
   "display_name": "Python 3 (ipykernel)",
   "language": "python",
   "name": "python3"
  },
  "language_info": {
   "codemirror_mode": {
    "name": "ipython",
    "version": 3
   },
   "file_extension": ".py",
   "mimetype": "text/x-python",
   "name": "python",
   "nbconvert_exporter": "python",
   "pygments_lexer": "ipython3",
   "version": "3.10.6"
  }
 },
 "nbformat": 4,
 "nbformat_minor": 4
}
