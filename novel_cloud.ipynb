{
 "cells": [
  {
   "cell_type": "code",
   "execution_count": 5,
   "metadata": {},
   "outputs": [],
   "source": [
    "import pandas as pd\n",
    "import jieba\n",
    "import wordcloud\n",
    "import unicodedata as ucd\n"
   ]
  },
  {
   "cell_type": "code",
   "execution_count": 3,
   "metadata": {},
   "outputs": [
    {
     "name": "stdout",
     "output_type": "stream",
     "text": [
      "<class 'pandas.core.frame.DataFrame'>\n",
      "RangeIndex: 25808 entries, 0 to 25807\n",
      "Data columns (total 3 columns):\n",
      " #   Column  Non-Null Count  Dtype \n",
      "---  ------  --------------  ----- \n",
      " 0   标题      25808 non-null  object\n",
      " 1   类别      25808 non-null  object\n",
      " 2   简介      25808 non-null  object\n",
      "dtypes: object(3)\n",
      "memory usage: 605.0+ KB\n"
     ]
    }
   ],
   "source": [
    "df = pd.read_excel(\"./data/full.xlsx\")\n",
    "df.info()"
   ]
  },
  {
   "cell_type": "code",
   "execution_count": 8,
   "metadata": {},
   "outputs": [
    {
     "data": {
      "text/html": [
       "<div>\n",
       "<style scoped>\n",
       "    .dataframe tbody tr th:only-of-type {\n",
       "        vertical-align: middle;\n",
       "    }\n",
       "\n",
       "    .dataframe tbody tr th {\n",
       "        vertical-align: top;\n",
       "    }\n",
       "\n",
       "    .dataframe thead th {\n",
       "        text-align: right;\n",
       "    }\n",
       "</style>\n",
       "<table border=\"1\" class=\"dataframe\">\n",
       "  <thead>\n",
       "    <tr style=\"text-align: right;\">\n",
       "      <th></th>\n",
       "      <th>标题</th>\n",
       "      <th>类别</th>\n",
       "      <th>简介</th>\n",
       "    </tr>\n",
       "  </thead>\n",
       "  <tbody>\n",
       "    <tr>\n",
       "      <th>0</th>\n",
       "      <td>我有一剑</td>\n",
       "      <td>玄幻</td>\n",
       "      <td>我有一剑，出鞘即无敌！</td>\n",
       "    </tr>\n",
       "    <tr>\n",
       "      <th>1</th>\n",
       "      <td>剑道第一仙</td>\n",
       "      <td>玄幻</td>\n",
       "      <td>我是万古人间一剑修，诸天之上第一仙。\\n同名动画《剑道第一仙》已上映\\n已有完本作品《符皇》...</td>\n",
       "    </tr>\n",
       "    <tr>\n",
       "      <th>2</th>\n",
       "      <td>太荒吞天诀</td>\n",
       "      <td>玄幻</td>\n",
       "      <td>十大仙帝之一，因得重宝吞天神鼎，遭围攻惨死；携神鼎重生归来，吞四海，容八荒…一代邪神，踏天血...</td>\n",
       "    </tr>\n",
       "    <tr>\n",
       "      <th>3</th>\n",
       "      <td>万相之王</td>\n",
       "      <td>玄幻</td>\n",
       "      <td>天地间有万相，我李洛，终将成为那万相之王。</td>\n",
       "    </tr>\n",
       "    <tr>\n",
       "      <th>4</th>\n",
       "      <td>逆天邪神</td>\n",
       "      <td>玄幻</td>\n",
       "      <td>掌天毒之珠，承邪神之血，修逆天之力，一代邪神，君临天下！\\n【添加微信公众号：火星引力】</td>\n",
       "    </tr>\n",
       "  </tbody>\n",
       "</table>\n",
       "</div>"
      ],
      "text/plain": [
       "      标题  类别                                                 简介\n",
       "0   我有一剑  玄幻                                        我有一剑，出鞘即无敌！\n",
       "1  剑道第一仙  玄幻  我是万古人间一剑修，诸天之上第一仙。\\n同名动画《剑道第一仙》已上映\\n已有完本作品《符皇》...\n",
       "2  太荒吞天诀  玄幻  十大仙帝之一，因得重宝吞天神鼎，遭围攻惨死；携神鼎重生归来，吞四海，容八荒…一代邪神，踏天血...\n",
       "3   万相之王  玄幻                              天地间有万相，我李洛，终将成为那万相之王。\n",
       "4   逆天邪神  玄幻       掌天毒之珠，承邪神之血，修逆天之力，一代邪神，君临天下！\\n【添加微信公众号：火星引力】"
      ]
     },
     "execution_count": 8,
     "metadata": {},
     "output_type": "execute_result"
    }
   ],
   "source": [
    "xuanhuan = df[df['类别']==\"玄幻\"]\n",
    "xuanhuan = xuanhuan.reset_index(drop=True)\n",
    "xuanhuan.head()"
   ]
  },
  {
   "cell_type": "code",
   "execution_count": 16,
   "metadata": {},
   "outputs": [
    {
     "data": {
      "text/plain": [
       "['天地间', '有万相', ',', '我', '李洛', ',', '终将', '成为', '那万', '相之王', '。']"
      ]
     },
     "execution_count": 16,
     "metadata": {},
     "output_type": "execute_result"
    }
   ],
   "source": [
    "sample = xuanhuan.iloc[3, -1]\n",
    "sample = ucd.normalize('NFKC', sample).replace(\" \", \"\")\n",
    "sample = sample.replace(\"\\n\", \"\").replace(\"……\", \"\").replace(\"......\", \"\")\n",
    "jieba.lcut(sample)"
   ]
  },
  {
   "cell_type": "code",
   "execution_count": 17,
   "metadata": {},
   "outputs": [],
   "source": [
    "def process_fn(text):\n",
    "    text = ucd.normalize('NFKC', text).replace(\" \", \"\")\n",
    "    text = text.replace(\"\\n\", \"\").replace(\"……\", \"\").replace(\"......\", \"\")\n",
    "    return text"
   ]
  },
  {
   "cell_type": "code",
   "execution_count": 18,
   "metadata": {},
   "outputs": [],
   "source": [
    "xuanhuan_samples = xuanhuan[\"简介\"].apply(process_fn)"
   ]
  },
  {
   "cell_type": "code",
   "execution_count": 72,
   "metadata": {},
   "outputs": [
    {
     "name": "stdout",
     "output_type": "stream",
     "text": [
      "['打开天窗说亮话', '到目前为止', '赶早不赶晚', '常言说得好', '何乐而不为', '毫无保留地', '由此可见', '这就是说', '这么点儿', '综上所述', '总的来看', '总的来说', '总的说来', '总而言之', '相对而言', '除此之外', '反过来说', '恰恰相反', '如上所述', '换句话说']\n"
     ]
    }
   ],
   "source": [
    "# 载入中文停用词表\n",
    "with open(\"scu_stopwords.txt\", 'r', encoding='utf-8') as f:\n",
    "    context = f.readlines()\n",
    "with open(\"cn_stopwords.txt\", 'r', encoding='utf-8') as f:\n",
    "    context += f.readlines()\n",
    "    \n",
    "stopwords = [word.strip() for word in context] + [\n",
    "    \"请删书\", \"新书\", \"书友群\", \"PS\", \"微信公众号\", \"本书又名\", \"这\", \"至此\", \"没错\", \"又名\", \"简介\", \"这一次\",\n",
    "    \"自此\", \"剧情简介\", \"交流群\", \"微信\", \"qq\", \"系统\", \"无系统\", \"叮\"\n",
    "    ]\n",
    "print(stopwords[:20])"
   ]
  },
  {
   "cell_type": "code",
   "execution_count": 40,
   "metadata": {},
   "outputs": [
    {
     "data": {
      "text/plain": [
       "564572"
      ]
     },
     "execution_count": 40,
     "metadata": {},
     "output_type": "execute_result"
    }
   ],
   "source": [
    "text = ' '.join(xuanhuan_samples.to_list()) # 连接成字符串\n",
    "len(text)"
   ]
  },
  {
   "cell_type": "code",
   "execution_count": 43,
   "metadata": {},
   "outputs": [
    {
     "data": {
      "text/plain": [
       "<wordcloud.wordcloud.WordCloud at 0x1d782886e60>"
      ]
     },
     "execution_count": 43,
     "metadata": {},
     "output_type": "execute_result"
    }
   ],
   "source": [
    "wc = wordcloud.WordCloud(font_path=\"msyh.ttc\",\n",
    "                         width = 1000,\n",
    "                         height = 700,\n",
    "                         background_color='white',\n",
    "                         max_words=100, stopwords=stopwords)\n",
    "\n",
    "wc.generate(text) # 加载词云文本\n",
    "wc.to_file(\"玄幻词云.png\") # 保存词云文件"
   ]
  },
  {
   "cell_type": "code",
   "execution_count": 53,
   "metadata": {},
   "outputs": [],
   "source": [
    "def cloud_generator(series, stopwords, filename):\n",
    "    series = series.apply(process_fn)\n",
    "    text = \" \".join(series.to_list())\n",
    "    wc = wordcloud.WordCloud(font_path=\"msyh.ttc\",\n",
    "                         width = 1000,\n",
    "                         height = 700,\n",
    "                         background_color='white',\n",
    "                         max_words=100, stopwords=stopwords)\n",
    "\n",
    "    wc.generate(text) # 加载词云文本\n",
    "    wc.to_file(f\"./plot/{filename}.png\") # 保存词云文件"
   ]
  },
  {
   "cell_type": "code",
   "execution_count": 73,
   "metadata": {},
   "outputs": [],
   "source": [
    "cloud_generator(df[df[\"类别\"]==\"武侠\"][\"简介\"], stopwords, \"武侠词云\")"
   ]
  },
  {
   "cell_type": "code",
   "execution_count": 74,
   "metadata": {},
   "outputs": [],
   "source": [
    "cloud_generator(df[df[\"类别\"]==\"仙侠\"][\"简介\"], stopwords, \"仙侠词云\")"
   ]
  },
  {
   "cell_type": "code",
   "execution_count": 75,
   "metadata": {},
   "outputs": [],
   "source": [
    "cloud_generator(df[df[\"类别\"]==\"都市\"][\"简介\"], stopwords, \"都市词云\")"
   ]
  },
  {
   "cell_type": "code",
   "execution_count": 76,
   "metadata": {},
   "outputs": [],
   "source": [
    "cloud_generator(df[df[\"类别\"]==\"现代言情\"][\"简介\"], stopwords, \"现代言情词云\")"
   ]
  },
  {
   "cell_type": "code",
   "execution_count": 77,
   "metadata": {},
   "outputs": [],
   "source": [
    "cloud_generator(df[df[\"类别\"]==\"古代言情\"][\"简介\"], stopwords, \"古代言情词云\")"
   ]
  },
  {
   "cell_type": "code",
   "execution_count": 78,
   "metadata": {},
   "outputs": [],
   "source": [
    "cloud_generator(df[df[\"类别\"]==\"科幻\"][\"简介\"], stopwords, \"科幻词云\")"
   ]
  },
  {
   "cell_type": "code",
   "execution_count": 79,
   "metadata": {},
   "outputs": [],
   "source": [
    "cloud_generator(df[df[\"类别\"]==\"奇闻异事\"][\"简介\"], stopwords, \"奇闻异事词云\")"
   ]
  },
  {
   "cell_type": "code",
   "execution_count": 80,
   "metadata": {},
   "outputs": [],
   "source": [
    "cloud_generator(df[df[\"类别\"]==\"奇幻\"][\"简介\"], stopwords, \"奇幻词云\")"
   ]
  },
  {
   "cell_type": "code",
   "execution_count": 81,
   "metadata": {},
   "outputs": [],
   "source": [
    "cloud_generator(df[df[\"类别\"]==\"历史\"][\"简介\"], stopwords, \"历史词云\")"
   ]
  },
  {
   "cell_type": "code",
   "execution_count": 82,
   "metadata": {},
   "outputs": [],
   "source": [
    "cloud_generator(df[df[\"类别\"]==\"幻想言情\"][\"简介\"], stopwords, \"幻想言情词云\")"
   ]
  }
 ],
 "metadata": {
  "kernelspec": {
   "display_name": "nlp",
   "language": "python",
   "name": "python3"
  },
  "language_info": {
   "codemirror_mode": {
    "name": "ipython",
    "version": 3
   },
   "file_extension": ".py",
   "mimetype": "text/x-python",
   "name": "python",
   "nbconvert_exporter": "python",
   "pygments_lexer": "ipython3",
   "version": "3.10.6"
  }
 },
 "nbformat": 4,
 "nbformat_minor": 2
}
